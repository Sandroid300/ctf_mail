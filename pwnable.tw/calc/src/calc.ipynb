{
 "cells": [
  {
   "cell_type": "markdown",
   "metadata": {},
   "source": [
    "Структура Numbers:\n",
    "\n",
    "'''c\n",
    "numbers{\n",
    "    int size;\n",
    "    int numbers[64]\n",
    "'''"
   ]
  },
  {
   "cell_type": "code",
   "execution_count": 2,
   "metadata": {},
   "outputs": [
    {
     "ename": "SyntaxError",
     "evalue": "Missing parentheses in call to 'print'. Did you mean print(r)? (<ipython-input-2-6b1ea42dcaa3>, line 17)",
     "output_type": "error",
     "traceback": [
      "\u001b[0;36m  File \u001b[0;32m\"<ipython-input-2-6b1ea42dcaa3>\"\u001b[0;36m, line \u001b[0;32m17\u001b[0m\n\u001b[0;31m    print r\u001b[0m\n\u001b[0m          ^\u001b[0m\n\u001b[0;31mSyntaxError\u001b[0m\u001b[0;31m:\u001b[0m Missing parentheses in call to 'print'. Did you mean print(r)?\n"
     ]
    }
   ],
   "source": [
    "# coding: utf-8\n",
    "\n",
    "import socket\n",
    "import struct\n",
    "import time\n",
    "import binascii\n",
    "\n",
    "host = 'chall.pwnable.tw'\n",
    "port = 10100\n",
    "command1 = '15+3\\n'\n",
    "command2 = '97*63\\n'\n",
    "\n",
    "def send_command_and_print(s,cmd):\n",
    "    s.send(cmd)\n",
    "    time.sleep(0.5)\n",
    "    r = s.recv(1000)\n",
    "    print (r)\n",
    "\n",
    "def dummy():\n",
    "    s = socket.socket(socket.AF_INET, socket.SOCK_STREAM)\n",
    "    s.connect((host, port))\n",
    "    time.sleep(0.5)\n",
    "    r = s.recv(1000)\n",
    "    print (r)\n",
    "    send_command_and_print(s,command1)\n",
    "    send_command_and_print(s,command2)\n",
    "    \n",
    "dummy()"
   ]
  },
  {
   "cell_type": "markdown",
   "metadata": {},
   "source": [
    "\n",
    "\n"
   ]
  }
 ],
 "metadata": {
  "kernelspec": {
   "display_name": "Python 3",
   "language": "python",
   "name": "python3"
  },
  "language_info": {
   "codemirror_mode": {
    "name": "ipython",
    "version": 3
   },
   "file_extension": ".py",
   "mimetype": "text/x-python",
   "name": "python",
   "nbconvert_exporter": "python",
   "pygments_lexer": "ipython3",
   "version": "3.6.5"
  }
 },
 "nbformat": 4,
 "nbformat_minor": 2
}
